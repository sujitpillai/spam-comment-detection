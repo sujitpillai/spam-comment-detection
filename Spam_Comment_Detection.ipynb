{
  "nbformat": 4,
  "nbformat_minor": 0,
  "metadata": {
    "colab": {
      "name": "Spam Comment Detection.ipynb",
      "provenance": []
    },
    "kernelspec": {
      "name": "python3",
      "display_name": "Python 3"
    },
    "language_info": {
      "name": "python"
    }
  },
  "cells": [
    {
      "cell_type": "code",
      "source": [
        "import pandas as pd\n",
        "import numpy as np\n",
        "from sklearn.feature_extraction.text import CountVectorizer\n",
        "from sklearn.model_selection import train_test_split\n",
        "from sklearn.naive_bayes import BernoulliNB\n",
        "\n",
        "data = pd.read_csv(\"Youtube01-Psy.csv\")\n",
        "print(data.sample(5))"
      ],
      "metadata": {
        "colab": {
          "base_uri": "https://localhost:8080/"
        },
        "id": "bRKWM3gWnmhU",
        "outputId": "52542bad-0189-48c7-8ea6-7f4eb0ffc245"
      },
      "execution_count": 10,
      "outputs": [
        {
          "output_type": "stream",
          "name": "stdout",
          "text": [
            "                                COMMENT_ID              AUTHOR  \\\n",
            "187    z122srjbvovwzxg0522yd1i4ty3kznxqs04            Warrdrew   \n",
            "112      z12ftpab5svihfffz23kf3iiymiwjzesi      trespasser4000   \n",
            "10   z13auhww3oufjn1qo04ci3grqqjmfjexxuo0k           Huckyduck   \n",
            "341      z13qyxk5tzq1e5asx22xjt3wdq3ns32f5       Ameenk Chanel   \n",
            "126    z12kuncrps35wp1l0220s3t4ym32dtpin04  Aleksaivan Neidert   \n",
            "\n",
            "                    DATE                                            CONTENT  \\\n",
            "187  2014-11-07T07:46:57           I'm here to check the views.. holy shit﻿   \n",
            "112  2014-11-04T22:07:22                 This song never gets old love it.﻿   \n",
            "10   2013-11-28T17:06:17                               Hey subscribe to me﻿   \n",
            "341  2014-11-14T11:50:02  Free my apps get 1m crdits ! Just click on the...   \n",
            "126  2014-11-05T15:35:49  PSY - GANGNAM STYLE (강남스타일) M/V: http://youtu....   \n",
            "\n",
            "     CLASS  \n",
            "187      0  \n",
            "112      0  \n",
            "10       1  \n",
            "341      1  \n",
            "126      0  \n"
          ]
        }
      ]
    },
    {
      "cell_type": "code",
      "source": [
        "data = data[[\"CONTENT\", \"CLASS\"]]\n",
        "print(data.sample(5))"
      ],
      "metadata": {
        "colab": {
          "base_uri": "https://localhost:8080/"
        },
        "id": "nUyi6eiHn6Uo",
        "outputId": "5af9433f-7dfb-4d26-8985-1d10eb2d09ec"
      },
      "execution_count": 11,
      "outputs": [
        {
          "output_type": "stream",
          "name": "stdout",
          "text": [
            "                                               CONTENT  CLASS\n",
            "219        Will this song ever reach 7 Billion Views?﻿      0\n",
            "315  PLEASE SUBSCRIBE ME!!!!!!!!!!!!!!!!!!!!!!!!!!!...      1\n",
            "28   I dont even watch it anymore i just come here ...      0\n",
            "271  For all of the little kidz out there there is ...      0\n",
            "215  Hello! I'm kind of new to Youtube, And soon i'...      1\n"
          ]
        }
      ]
    },
    {
      "cell_type": "code",
      "source": [
        "data[\"CLASS\"] = data[\"CLASS\"].map({0: \"Not Spam\",\n",
        "                                   1: \"Spam Comment\"})\n",
        "print(data.sample(5))"
      ],
      "metadata": {
        "colab": {
          "base_uri": "https://localhost:8080/"
        },
        "id": "FcPdC7jcoPuI",
        "outputId": "07e442ca-b84e-4972-daa8-8bc9b6631544"
      },
      "execution_count": 12,
      "outputs": [
        {
          "output_type": "stream",
          "name": "stdout",
          "text": [
            "                                               CONTENT         CLASS\n",
            "301  http://hackfbaccountlive.com/?ref=4436607  psy...  Spam Comment\n",
            "173                    http://www.gofundme.com/gvr7xg﻿  Spam Comment\n",
            "181                        Please check out my vidios﻿  Spam Comment\n",
            "12                https://twitter.com/GBphotographyGB﻿  Spam Comment\n",
            "292  Hi guys my name is Dylan and I do IRL football...  Spam Comment\n"
          ]
        }
      ]
    },
    {
      "cell_type": "code",
      "source": [
        "x = np.array(data[\"CONTENT\"])\n",
        "y = np.array(data[\"CLASS\"])\n",
        "\n",
        "cv = CountVectorizer()\n",
        "x = cv.fit_transform(x)\n",
        "xtrain, xtest, ytrain, ytest = train_test_split(x, y, \n",
        "                                                test_size=0.2, \n",
        "                                                random_state=42)\n",
        "\n",
        "model = BernoulliNB()\n",
        "model.fit(xtrain, ytrain)\n",
        "print(model.score(xtest, ytest))"
      ],
      "metadata": {
        "colab": {
          "base_uri": "https://localhost:8080/"
        },
        "id": "I1Yak7FToUwf",
        "outputId": "424662ff-397c-454b-e8a7-4b35ecf10360"
      },
      "execution_count": 13,
      "outputs": [
        {
          "output_type": "stream",
          "name": "stdout",
          "text": [
            "0.9857142857142858\n"
          ]
        }
      ]
    },
    {
      "cell_type": "code",
      "source": [
        "sample = \"Check this out: https://thecleverprogrammer.com/\" \n",
        "data = cv.transform([sample]).toarray()\n",
        "print(model.predict(data))"
      ],
      "metadata": {
        "colab": {
          "base_uri": "https://localhost:8080/"
        },
        "id": "SvEfwRz_oYwx",
        "outputId": "024894fe-3348-40cf-8023-1cc7884bfcab"
      },
      "execution_count": 14,
      "outputs": [
        {
          "output_type": "stream",
          "name": "stdout",
          "text": [
            "['Spam Comment']\n"
          ]
        }
      ]
    },
    {
      "cell_type": "code",
      "source": [
        "sample = \" http://www.gofundme.com/gvr7xg\" \n",
        "data = cv.transform([sample]).toarray()\n",
        "print(model.predict(data)) "
      ],
      "metadata": {
        "colab": {
          "base_uri": "https://localhost:8080/"
        },
        "id": "wwdYYNhdoghe",
        "outputId": "13c30d8a-0a74-41b5-f152-a29d19dd954c"
      },
      "execution_count": 16,
      "outputs": [
        {
          "output_type": "stream",
          "name": "stdout",
          "text": [
            "['Spam Comment']\n"
          ]
        }
      ]
    },
    {
      "cell_type": "code",
      "source": [],
      "metadata": {
        "id": "D9BauAzWojEG"
      },
      "execution_count": null,
      "outputs": []
    }
  ]
}